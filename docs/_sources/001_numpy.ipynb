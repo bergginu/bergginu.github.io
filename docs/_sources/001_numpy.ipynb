{
 "cells": [
  {
   "cell_type": "markdown",
   "id": "101dc0a7-e1bf-4aaf-8cb3-9fe82852b525",
   "metadata": {},
   "source": [
    "# Numpy: um introdução\n",
    "\n",
    "[Numpy](https://numpy.org/) é, senão a mais, uma das mais populares bibliotecas para computação numérica na comunidade do Python. De tal forma que muitas outras bibliotecas desse segmento, quando não impletam suas funcionalidades usando o próprio Numpy como base, garantem com aquela um certo grau de compatibilidade ou suporte.  \n",
    "Dentre as suas muitas funcionalidades, ela implementa extruturas de dados que facilitam enormemente o trabalho com números, acelerando a implementação das rotinas e otimizando o uso de recursos como memória e processamento, se compararmos com a implemtação das mesmas rotinas usando as estruturas nativas do Python, o que era de se esperar, dada a sua proposta.  \n",
    "Para entender melhor, vamos a algumas práticas com a biblioteca, començando pela tradicional importação dos módulos e escrita de algumas rotinas básicas."
   ]
  },
  {
   "cell_type": "code",
   "execution_count": 1,
   "id": "b4acc847-7d8b-49ed-a325-2b54093ffcf8",
   "metadata": {},
   "outputs": [],
   "source": [
    "import numpy as np"
   ]
  },
  {
   "cell_type": "code",
   "execution_count": 2,
   "id": "54d7b816-77ca-4ee0-b984-d8eaaeae8baf",
   "metadata": {},
   "outputs": [],
   "source": [
    "x = np.array([1])"
   ]
  },
  {
   "cell_type": "code",
   "execution_count": 4,
   "id": "0f931e5a-a597-45d9-8770-a05423873431",
   "metadata": {},
   "outputs": [],
   "source": [
    "y = np.array(1)"
   ]
  },
  {
   "cell_type": "code",
   "execution_count": 7,
   "id": "49b65fac-50e3-4b5f-8923-709b4b256756",
   "metadata": {},
   "outputs": [
    {
     "data": {
      "text/plain": [
       "array([ True])"
      ]
     },
     "execution_count": 7,
     "metadata": {},
     "output_type": "execute_result"
    }
   ],
   "source": [
    "x == y"
   ]
  },
  {
   "cell_type": "code",
   "execution_count": null,
   "id": "04c5f45a-2d8a-4fdb-8afb-02874193e856",
   "metadata": {},
   "outputs": [],
   "source": []
  }
 ],
 "metadata": {
  "kernelspec": {
   "display_name": "Python 3 (ipykernel)",
   "language": "python",
   "name": "python3"
  },
  "language_info": {
   "codemirror_mode": {
    "name": "ipython",
    "version": 3
   },
   "file_extension": ".py",
   "mimetype": "text/x-python",
   "name": "python",
   "nbconvert_exporter": "python",
   "pygments_lexer": "ipython3",
   "version": "3.10.12"
  }
 },
 "nbformat": 4,
 "nbformat_minor": 5
}

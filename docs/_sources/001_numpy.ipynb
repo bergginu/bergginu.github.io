{
 "cells": [
  {
   "cell_type": "markdown",
   "id": "101dc0a7-e1bf-4aaf-8cb3-9fe82852b525",
   "metadata": {},
   "source": [
    "# Numpy: um introdução\n",
    "\n",
    "[Numpy](https://numpy.org/) é, senão a mais, uma das mais populares bibliotecas para computação numérica na comunidade do Python. De tal forma que muitas outras bibliotecas desse segmento, quando não impletam suas funcionalidades usando o próprio Numpy como base, garantem com aquela um certo grau de compatibilidade ou suporte.  \n",
    "A biblioteca implementa uma extrutura de dados (a [ndarray](https://numpy.org/doc/stable/reference/arrays.ndarray.html#the-n-dimensional-array-ndarray)) homogênea (os dados são do mesmo tipo), cujos elementos podem ser acessados por índices inteiros. Comparadas as estruturas como listas e tuplas padrões do Python, a ndarray oferce vantagens para computação numérica, otimizando recursos como memória e poder de processamento. Ela também apresenta um recuso chamado \"[vetorização](https://numpy.org/doc/stable/glossary.html#term-vectorization)\" (_vecotirzation_), que permite realizar operações com cada elemento do arranjo, de forma simples, reduzindo a necessidade do uso de _loops_ (_for_, _while_).\n",
    "Para entender melhor, vamos a algumas práticas com a biblioteca, començando pela tradicional importação dos módulos e escrita de algumas rotinas básicas."
   ]
  },
  {
   "cell_type": "code",
   "execution_count": 1,
   "id": "b4acc847-7d8b-49ed-a325-2b54093ffcf8",
   "metadata": {},
   "outputs": [],
   "source": [
    "import numpy as np # Importação do Numpy. \"as np\" cria um \"alias\" (apelido) para \"numpy\""
   ]
  },
  {
   "cell_type": "code",
   "execution_count": 6,
   "id": "54d7b816-77ca-4ee0-b984-d8eaaeae8baf",
   "metadata": {},
   "outputs": [],
   "source": [
    "x = np.array([1, 2, 3])\n",
    "y = np.arange(0, 2, .5)\n",
    "z = np.linspace(0, 10, 6)"
   ]
  },
  {
   "cell_type": "code",
   "execution_count": 7,
   "id": "c4ed45a9-ea0f-4947-9370-742d99da8428",
   "metadata": {},
   "outputs": [
    {
     "data": {
      "text/plain": [
       "(array([1, 2, 3]),\n",
       " array([0. , 0.5, 1. , 1.5]),\n",
       " array([ 0.,  2.,  4.,  6.,  8., 10.]))"
      ]
     },
     "execution_count": 7,
     "metadata": {},
     "output_type": "execute_result"
    }
   ],
   "source": [
    "x, y, z"
   ]
  },
  {
   "cell_type": "markdown",
   "id": "9e8f5638-c63e-44ef-8377-807a9b844947",
   "metadata": {},
   "source": [
    "Os métodos **array**, **arange** e **linspace** retornam arranjos (arrays) numéricos, seguido diferentes processos de criação.  \n",
    "- [_array_](https://numpy.org/doc/stable/reference/generated/numpy.array.html#numpy.array) retorna um obeto array numpy, contando os valores passados na lista.\n",
    "- [_arange_](https://numpy.org/doc/stable/reference/generated/numpy.arange.html#numpy.arange) retornar um arranjo contendo valores no intervalo definido pelo primeito e último parâmetro, com espaçamento dado pelo terceiro parâmetro.\n",
    "- [_linspace_](https://numpy.org/doc/stable/reference/generated/numpy.linspace.html#numpy.linspace) funciona quase como _arange_, mas o terceiro parâmetro expressa a quantidade de elementos do intervalo, em vez do espaçamento."
   ]
  },
  {
   "cell_type": "code",
   "execution_count": 14,
   "id": "49b65fac-50e3-4b5f-8923-709b4b256756",
   "metadata": {},
   "outputs": [],
   "source": [
    "mat = np.array([[1., .2, 5], [0, -3, -1], [.2, np.pi, 0]])"
   ]
  },
  {
   "cell_type": "code",
   "execution_count": 15,
   "id": "04c5f45a-2d8a-4fdb-8afb-02874193e856",
   "metadata": {},
   "outputs": [
    {
     "data": {
      "text/plain": [
       "array([[ 1.        ,  0.2       ,  5.        ],\n",
       "       [ 0.        , -3.        , -1.        ],\n",
       "       [ 0.2       ,  3.14159265,  0.        ]])"
      ]
     },
     "execution_count": 15,
     "metadata": {},
     "output_type": "execute_result"
    }
   ],
   "source": [
    "mat"
   ]
  },
  {
   "cell_type": "code",
   "execution_count": 16,
   "id": "ee3d5346-dfda-40ae-9d61-2ec8618a6b81",
   "metadata": {},
   "outputs": [
    {
     "data": {
      "text/plain": [
       "6.101592653589793"
      ]
     },
     "execution_count": 16,
     "metadata": {},
     "output_type": "execute_result"
    }
   ],
   "source": [
    "np.linalg.det(mat)"
   ]
  },
  {
   "cell_type": "markdown",
   "id": "045b30af-0082-4596-9575-f492c2f02cd2",
   "metadata": {},
   "source": [
    "Acima, em sequência, declaramos uma matriz quadrada (mat), imprimimos em tela e calculamos seu determinante, usado a função [det](https://numpy.org/doc/stable/reference/generated/numpy.linalg.det.html#numpy.linalg.det) do pacote [linalg](https://numpy.org/doc/stable/reference/routines.linalg.html#module-numpy.linalg)."
   ]
  },
  {
   "cell_type": "markdown",
   "id": "63ceec00-1478-4c65-8109-91b6cf419f23",
   "metadata": {},
   "source": [
    "**Continua... WDG - 2024/01/19**"
   ]
  },
  {
   "cell_type": "code",
   "execution_count": null,
   "id": "e9d00116-629f-4805-80c8-cae0e552fafc",
   "metadata": {},
   "outputs": [],
   "source": []
  }
 ],
 "metadata": {
  "kernelspec": {
   "display_name": "Python 3 (ipykernel)",
   "language": "python",
   "name": "python3"
  },
  "language_info": {
   "codemirror_mode": {
    "name": "ipython",
    "version": 3
   },
   "file_extension": ".py",
   "mimetype": "text/x-python",
   "name": "python",
   "nbconvert_exporter": "python",
   "pygments_lexer": "ipython3",
   "version": "3.10.12"
  }
 },
 "nbformat": 4,
 "nbformat_minor": 5
}

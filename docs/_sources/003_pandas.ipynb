{
 "cells": [
  {
   "cell_type": "markdown",
   "id": "52745b36-1d5f-48eb-8937-0a3454d811f3",
   "metadata": {},
   "source": [
    "# Exemplos com Pandas"
   ]
  },
  {
   "cell_type": "markdown",
   "id": "ecff6dc9-3c94-4e23-92a1-cc6de9ca5d85",
   "metadata": {},
   "source": [
    "## Introdução\n",
    "[Pandas](https://pandas.pydata.org/) é uma biblioteca de análise e manipulação de dados para Python. Dentre os principais recursos que ela oferece, podemos apontar as duas estruturas: a [Pandas Series](https://pandas.pydata.org/docs/reference/series.html) e a [Pandas Dataframe](https://pandas.pydata.org/docs/reference/frame.html). Atuando geralmente juntas, elas abstream o trabalho com a manipulação dos conjuntos de dados, através de uma API consistente, que permite, dentre outras coisas, editar, filtrar, sumarizar, agrupar, combinar e higienizar os dados, além de criar gráficos e calcular estatísticas de forma simplificada. Além disso, a Pandas inclui [funções para persistência de objetos](https://pandas.pydata.org/docs/reference/io.html), simplificando as operações, sem ter de, necessariamente recorrer a outras bibliotecas diretamente.\n",
    "Este tutorial tem em mente as rotinas mais habituais de manupulação de cojuntos de dados com Pandas e, portante, será de gande ajuda ao/a preticante de Análise de Dados se sua leitura form complementada com uma leitura curiosa da documentação da biblioteca, que encontra-se disponível em [https://pandas.pydata.org/docs/](https://pandas.pydata.org/docs/)."
   ]
  },
  {
   "cell_type": "code",
   "execution_count": 1,
   "id": "e3039163-74ad-4191-9a76-d9c45de7e09c",
   "metadata": {},
   "outputs": [],
   "source": [
    "import pandas as pd"
   ]
  },
  {
   "cell_type": "markdown",
   "id": "75c64b06-a590-46bc-8609-cb2af4a17bfd",
   "metadata": {},
   "source": [
    "## Rotinas de carregamento de dados"
   ]
  },
  {
   "cell_type": "code",
   "execution_count": null,
   "id": "649062b4-2e06-4ab2-b54e-50f814f9ffe2",
   "metadata": {},
   "outputs": [],
   "source": [
    "data = pd.read_csv()"
   ]
  }
 ],
 "metadata": {
  "kernelspec": {
   "display_name": "Python 3 (ipykernel)",
   "language": "python",
   "name": "python3"
  },
  "language_info": {
   "codemirror_mode": {
    "name": "ipython",
    "version": 3
   },
   "file_extension": ".py",
   "mimetype": "text/x-python",
   "name": "python",
   "nbconvert_exporter": "python",
   "pygments_lexer": "ipython3",
   "version": "3.10.12"
  }
 },
 "nbformat": 4,
 "nbformat_minor": 5
}

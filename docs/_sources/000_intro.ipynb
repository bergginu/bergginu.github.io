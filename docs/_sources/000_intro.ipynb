{
 "cells": [
  {
   "cell_type": "markdown",
   "id": "64a10479-0f8d-422d-8801-27649dcf56c1",
   "metadata": {},
   "source": [
    "# Notas & Notes\n",
    "\n",
    "Olá!\n",
    "Me chamo Waldemberg (a.k.a Berg) e estas são algumas notas que escrevi sobre Python para estudantes de exatas, analistas e cientistas. Elas estão mais ou menos ligadas em ordem de complexidade e são, em sua maioria, "
   ]
  }
 ],
 "metadata": {
  "kernelspec": {
   "display_name": "Python 3 (ipykernel)",
   "language": "python",
   "name": "python3"
  },
  "language_info": {
   "codemirror_mode": {
    "name": "ipython",
    "version": 3
   },
   "file_extension": ".py",
   "mimetype": "text/x-python",
   "name": "python",
   "nbconvert_exporter": "python",
   "pygments_lexer": "ipython3",
   "version": "3.10.12"
  }
 },
 "nbformat": 4,
 "nbformat_minor": 5
}

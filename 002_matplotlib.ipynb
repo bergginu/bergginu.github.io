{
 "cells": [
  {
   "cell_type": "markdown",
   "id": "dc9f15e1-eaf3-4684-ad82-f017c4beef8b",
   "metadata": {},
   "source": [
    "# Exemplos com Matplotlib\n",
    "A [Matplotlib](https://matplotlib.org/) é uma das bibliotecas para criação de gráficos mais populares (senão a mais popular) na comunidade Python. Ela possui uma [documentação](https://matplotlib.org/stable/index.html) bastante abrangente, além de funcionalidades que vão desde simples gráficos de barras, até gráficos volumétricos e 3D. Alguns exemplos podem ser encontrados na [galeria](https://matplotlib.org/stable/gallery/index).  \n",
    "Neste capítulo, abordaremos a criação de gráficos com a biblioteca Matplolib, com ênfase em ...Séries Temporais."
   ]
  },
  {
   "cell_type": "code",
   "execution_count": null,
   "id": "23849d35-72e2-4c64-926b-e4142db52f55",
   "metadata": {},
   "outputs": [],
   "source": []
  },
  {
   "cell_type": "code",
   "execution_count": 2,
   "id": "19050d40-9d4d-487e-a282-4c1198036ca4",
   "metadata": {},
   "outputs": [],
   "source": [
    "import numpy as np\n",
    "from matplotlib import pyplot as plt"
   ]
  }
 ],
 "metadata": {
  "kernelspec": {
   "display_name": "Python 3 (ipykernel)",
   "language": "python",
   "name": "python3"
  },
  "language_info": {
   "codemirror_mode": {
    "name": "ipython",
    "version": 3
   },
   "file_extension": ".py",
   "mimetype": "text/x-python",
   "name": "python",
   "nbconvert_exporter": "python",
   "pygments_lexer": "ipython3",
   "version": "3.10.12"
  }
 },
 "nbformat": 4,
 "nbformat_minor": 5
}
